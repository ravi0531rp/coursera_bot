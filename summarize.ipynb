{
 "cells": [
  {
   "cell_type": "code",
   "execution_count": 6,
   "metadata": {},
   "outputs": [
    {
     "name": "stderr",
     "output_type": "stream",
     "text": [
      "/home/ravi0531rp/anaconda3/envs/langchain-env/lib/python3.11/site-packages/tqdm/auto.py:21: TqdmWarning: IProgress not found. Please update jupyter and ipywidgets. See https://ipywidgets.readthedocs.io/en/stable/user_install.html\n",
      "  from .autonotebook import tqdm as notebook_tqdm\n"
     ]
    }
   ],
   "source": [
    "import os\n",
    "from dotenv import load_dotenv\n",
    "import json\n",
    "load_dotenv(\"/home/ravi0531rp/Desktop/CODES/p-projects/PlanSage/plansage/.env\")\n",
    "\n",
    "\n",
    "GOOGLE_API_KEY=os.getenv(\"GOOGLE_API_KEY\")\n",
    "GROQ_API_KEY=os.getenv(\"GROQ_API_KEY\")\n",
    "LANGCHAIN_API_KEY=os.getenv(\"LANGCHAIN_API_KEY\")\n",
    "LANGCHAIN_PROJECT=os.getenv(\"LANGCHAIN_PROJECT\")\n",
    "\n",
    "\n",
    "os.environ[\"GOOGLE_API_KEY\"] = GOOGLE_API_KEY\n",
    "os.environ[\"GROQ_API_KEY\"]= GROQ_API_KEY\n",
    "os.environ[\"LANGCHAIN_API_KEY\"] = LANGCHAIN_API_KEY\n",
    "os.environ[\"LANGCHAIN_TRACING_V2\"] = \"true\"\n",
    "os.environ[\"LANGCHAIN_ENDPOINT\"] = \"https://api.smith.langchain.com\"\n",
    "os.environ[\"LANGCHAIN_PROJECT\"]=LANGCHAIN_PROJECT\n",
    "\n",
    "import google.generativeai as genai\n",
    "from json_repair import repair_json\n",
    "\n",
    "genai.configure(api_key=os.environ[\"GOOGLE_API_KEY\"])"
   ]
  },
  {
   "cell_type": "code",
   "execution_count": 1,
   "metadata": {},
   "outputs": [],
   "source": [
    "from pydantic import BaseModel, Field\n",
    "from typing import List\n",
    "\n",
    "class ChapterSummary(BaseModel):\n",
    "    chapter_title: str = Field(..., description=\"Title of the chapter\")\n",
    "    long_summary: str = Field(..., description=\"A detailed summary of the chapter content (Max 150 words)\")\n",
    "    short_summary: str = Field(..., description=\"A concise summary of the chapter content (Max 100 words)\")\n",
    "    very_short_summary: str = Field(..., description=\"A brief summary of the chapter content (Max 50 words)\")\n",
    "    key_points: List[str] = Field(..., description=\"List of practical takeaways or key points from the chapter\")\n",
    "    jargon_list: List[str] = Field(..., description=\"List of key marketing terms or jargon used in the chapter\")\n",
    "\n",
    "class MarketingCourseSummary(BaseModel):\n",
    "    course_name: str = Field(..., description=\"Name of the marketing course\")\n",
    "    chapters: List[ChapterSummary] = Field(..., description=\"List of chapter summaries for the course\")\n",
    "\n"
   ]
  },
  {
   "cell_type": "code",
   "execution_count": 7,
   "metadata": {},
   "outputs": [
    {
     "name": "stdout",
     "output_type": "stream",
     "text": [
      "{'$defs': {'ChapterSummary': {'properties': {'chapter_title': {'description': 'Title of the chapter', 'title': 'Chapter Title', 'type': 'string'}, 'long_summary': {'description': 'A detailed summary of the chapter content (Max 150 words)', 'title': 'Long Summary', 'type': 'string'}, 'short_summary': {'description': 'A concise summary of the chapter content (Max 100 words)', 'title': 'Short Summary', 'type': 'string'}, 'very_short_summary': {'description': 'A brief summary of the chapter content (Max 50 words)', 'title': 'Very Short Summary', 'type': 'string'}, 'key_points': {'description': 'List of practical takeaways or key points from the chapter', 'items': {'type': 'string'}, 'title': 'Key Points', 'type': 'array'}, 'jargon_list': {'description': 'List of key marketing terms or jargon used in the chapter', 'items': {'type': 'string'}, 'title': 'Jargon List', 'type': 'array'}}, 'required': ['chapter_title', 'long_summary', 'short_summary', 'very_short_summary', 'key_points', 'jargon_list'], 'title': 'ChapterSummary', 'type': 'object'}}, 'properties': {'course_name': {'description': 'Name of the marketing course', 'title': 'Course Name', 'type': 'string'}, 'chapters': {'description': 'List of chapter summaries for the course', 'items': {'$ref': '#/$defs/ChapterSummary'}, 'title': 'Chapters', 'type': 'array'}}, 'required': ['course_name', 'chapters'], 'title': 'MarketingCourseSummary', 'type': 'object'}\n"
     ]
    }
   ],
   "source": [
    "json_schema = MarketingCourseSummary.model_json_schema()\n",
    "\n",
    "print(json_schema)"
   ]
  },
  {
   "cell_type": "code",
   "execution_count": 3,
   "metadata": {},
   "outputs": [],
   "source": [
    "def fetch_chapters_from_folder(folder_path):\n",
    "    chapter_texts = []\n",
    "    for file_name in sorted(os.listdir(folder_path)):\n",
    "        if file_name.endswith(\".txt\"):\n",
    "            chapter_name = file_name.replace(\".txt\", \"\").replace(\"_\", \" \").title()\n",
    "            with open(os.path.join(folder_path, file_name), \"r\", encoding=\"utf-8\") as file:\n",
    "                content = file.read()\n",
    "            chapter_texts.append(f\"## {chapter_name}\\n{content}\\n\")\n",
    "    return \"\\n\".join(chapter_texts)"
   ]
  },
  {
   "cell_type": "code",
   "execution_count": 10,
   "metadata": {},
   "outputs": [],
   "source": [
    "model = genai.GenerativeModel(\n",
    "  \"models/gemini-1.5-flash\",\n",
    "  system_instruction=f\"\"\"You are an expert Professor of Marketing at University of Pennsylvenia. Given the text from chapterwise transcripts of the course, you go through it in detail. And then, generate the notes for the students in the given format. In the longer notes, do not gloss over any detail. The longest notes should be enough to cover the chapter's revision notes.\n",
    "  Using this JSON schema:\n",
    "    Summary = {json_schema}\n",
    "  Return a `Summary`. \n",
    "  \"\"\",\n",
    "    generation_config={\"response_mime_type\": \"application/json\",\n",
    "                       \"temperature\" : 0.0\n",
    "                       }\n",
    ")"
   ]
  },
  {
   "cell_type": "code",
   "execution_count": 20,
   "metadata": {},
   "outputs": [],
   "source": [
    "def create_markdown_from_json(json_response, output_file):\n",
    "    md_content = [f\"# {json_response['course_name']}\"]\n",
    "\n",
    "    for chapter in json_response[\"chapters\"]:\n",
    "        md_content.append(f\"## {chapter['chapter_title']}\")\n",
    "        md_content.append(\"### Long Summary\")\n",
    "        md_content.append(chapter[\"long_summary\"])\n",
    "        md_content.append(\"### Short Summary\")\n",
    "        md_content.append(chapter[\"short_summary\"])\n",
    "        md_content.append(\"### Very Short Summary\")\n",
    "        md_content.append(chapter[\"very_short_summary\"])\n",
    "        md_content.append(\"### Key Points\")\n",
    "        md_content.extend([f\"- {point}\" for point in chapter[\"key_points\"]])\n",
    "        md_content.append(\"### Jargon List\")\n",
    "        md_content.extend([f\"- {jargon}\" for jargon in chapter[\"jargon_list\"]])\n",
    "        md_content.append(\"\")  # Blank line for spacing\n",
    "\n",
    "    with open(output_file, \"w\", encoding=\"utf-8\") as file:\n",
    "        file.write(\"\\n\".join(md_content))"
   ]
  },
  {
   "cell_type": "code",
   "execution_count": 26,
   "metadata": {},
   "outputs": [],
   "source": [
    "chapter_text = fetch_chapters_from_folder(\"/home/ravi0531rp/Desktop/CODES/p-projects/coursera_bot/datasets/module4\")"
   ]
  },
  {
   "cell_type": "code",
   "execution_count": 27,
   "metadata": {},
   "outputs": [],
   "source": [
    "\n",
    "response = model.generate_content([chapter_text])\n",
    "good_json_string = repair_json(response.text)\n",
    "response_json = json.loads(good_json_string)\n",
    "\n"
   ]
  },
  {
   "cell_type": "code",
   "execution_count": 28,
   "metadata": {},
   "outputs": [],
   "source": [
    "with open(\"./summaries/sum_4.json\", \"w\") as json_file:\n",
    "    json.dump(response_json, json_file, indent=4)\n",
    "\n",
    "output_file = \"./summaries/sum_4.md\"\n",
    "create_markdown_from_json(response_json, output_file)"
   ]
  },
  {
   "cell_type": "code",
   "execution_count": 29,
   "metadata": {},
   "outputs": [],
   "source": []
  },
  {
   "cell_type": "code",
   "execution_count": null,
   "metadata": {},
   "outputs": [],
   "source": []
  },
  {
   "cell_type": "code",
   "execution_count": null,
   "metadata": {},
   "outputs": [],
   "source": []
  },
  {
   "cell_type": "code",
   "execution_count": null,
   "metadata": {},
   "outputs": [],
   "source": []
  },
  {
   "cell_type": "code",
   "execution_count": null,
   "metadata": {},
   "outputs": [],
   "source": []
  },
  {
   "cell_type": "code",
   "execution_count": null,
   "metadata": {},
   "outputs": [],
   "source": []
  },
  {
   "cell_type": "code",
   "execution_count": null,
   "metadata": {},
   "outputs": [],
   "source": []
  },
  {
   "cell_type": "code",
   "execution_count": null,
   "metadata": {},
   "outputs": [],
   "source": []
  }
 ],
 "metadata": {
  "kernelspec": {
   "display_name": "langchain-env",
   "language": "python",
   "name": "python3"
  },
  "language_info": {
   "codemirror_mode": {
    "name": "ipython",
    "version": 3
   },
   "file_extension": ".py",
   "mimetype": "text/x-python",
   "name": "python",
   "nbconvert_exporter": "python",
   "pygments_lexer": "ipython3",
   "version": "3.11.10"
  }
 },
 "nbformat": 4,
 "nbformat_minor": 2
}
